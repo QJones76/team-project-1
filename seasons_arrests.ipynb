{
 "cells": [
  {
   "cell_type": "code",
   "execution_count": 1,
   "id": "5bdbc079-3540-4bd7-a9d9-b453b41c9a31",
   "metadata": {},
   "outputs": [],
   "source": [
    "# Import Dependancies\n",
    "import pandas as pd\n",
    "from pathlib import Path\n",
    "import matplotlib.pyplot as plt\n",
    "from datetime import datetime\n",
    "import numpy as np"
   ]
  },
  {
   "cell_type": "code",
   "execution_count": 2,
   "id": "ef48ec63-2c26-4ccf-8572-924d9a0d805e",
   "metadata": {},
   "outputs": [],
   "source": [
    "# Create file path\n",
    "path = 'Cleaned_Crimes_-_2016_to_present.csv'\n",
    "\n",
    "# Read csv file with pandas\n",
    "df = pd.read_csv(path, encoding='ISO-8859-1')"
   ]
  },
  {
   "cell_type": "code",
   "execution_count": 3,
   "id": "e2e6ca44-d453-4426-99c1-218bf28539b9",
   "metadata": {},
   "outputs": [
    {
     "data": {
      "text/html": [
       "<div>\n",
       "<style scoped>\n",
       "    .dataframe tbody tr th:only-of-type {\n",
       "        vertical-align: middle;\n",
       "    }\n",
       "\n",
       "    .dataframe tbody tr th {\n",
       "        vertical-align: top;\n",
       "    }\n",
       "\n",
       "    .dataframe thead th {\n",
       "        text-align: right;\n",
       "    }\n",
       "</style>\n",
       "<table border=\"1\" class=\"dataframe\">\n",
       "  <thead>\n",
       "    <tr style=\"text-align: right;\">\n",
       "      <th></th>\n",
       "      <th>Unnamed: 0</th>\n",
       "      <th>ID</th>\n",
       "      <th>Case Number</th>\n",
       "      <th>Date</th>\n",
       "      <th>Block</th>\n",
       "      <th>IUCR</th>\n",
       "      <th>Primary Type</th>\n",
       "      <th>Description</th>\n",
       "      <th>Location Description</th>\n",
       "      <th>Arrest</th>\n",
       "      <th>...</th>\n",
       "      <th>Ward</th>\n",
       "      <th>Community Area</th>\n",
       "      <th>FBI Code</th>\n",
       "      <th>X Coordinate</th>\n",
       "      <th>Y Coordinate</th>\n",
       "      <th>Year</th>\n",
       "      <th>Updated On</th>\n",
       "      <th>Latitude</th>\n",
       "      <th>Longitude</th>\n",
       "      <th>Location</th>\n",
       "    </tr>\n",
       "  </thead>\n",
       "  <tbody>\n",
       "    <tr>\n",
       "      <th>0</th>\n",
       "      <td>0</td>\n",
       "      <td>25953</td>\n",
       "      <td>JE240540</td>\n",
       "      <td>05/24/2021 03:06:00 PM</td>\n",
       "      <td>020XX N LARAMIE AVE</td>\n",
       "      <td>0110</td>\n",
       "      <td>HOMICIDE</td>\n",
       "      <td>FIRST DEGREE MURDER</td>\n",
       "      <td>STREET</td>\n",
       "      <td>True</td>\n",
       "      <td>...</td>\n",
       "      <td>36.0</td>\n",
       "      <td>19.0</td>\n",
       "      <td>01A</td>\n",
       "      <td>1141387.0</td>\n",
       "      <td>1913179.0</td>\n",
       "      <td>2021</td>\n",
       "      <td>11/18/2023 03:39:49 PM</td>\n",
       "      <td>41.917838</td>\n",
       "      <td>-87.755969</td>\n",
       "      <td>(41.917838056, -87.755968972)</td>\n",
       "    </tr>\n",
       "    <tr>\n",
       "      <th>1</th>\n",
       "      <td>1</td>\n",
       "      <td>26038</td>\n",
       "      <td>JE279849</td>\n",
       "      <td>06/26/2021 09:24:00 AM</td>\n",
       "      <td>062XX N MC CORMICK RD</td>\n",
       "      <td>0110</td>\n",
       "      <td>HOMICIDE</td>\n",
       "      <td>FIRST DEGREE MURDER</td>\n",
       "      <td>PARKING LOT</td>\n",
       "      <td>True</td>\n",
       "      <td>...</td>\n",
       "      <td>50.0</td>\n",
       "      <td>13.0</td>\n",
       "      <td>01A</td>\n",
       "      <td>1152781.0</td>\n",
       "      <td>1941458.0</td>\n",
       "      <td>2021</td>\n",
       "      <td>11/18/2023 03:39:49 PM</td>\n",
       "      <td>41.995219</td>\n",
       "      <td>-87.713355</td>\n",
       "      <td>(41.995219444, -87.713354912)</td>\n",
       "    </tr>\n",
       "    <tr>\n",
       "      <th>2</th>\n",
       "      <td>2</td>\n",
       "      <td>13279676</td>\n",
       "      <td>JG507211</td>\n",
       "      <td>11/09/2023 07:30:00 AM</td>\n",
       "      <td>019XX W BYRON ST</td>\n",
       "      <td>0620</td>\n",
       "      <td>BURGLARY</td>\n",
       "      <td>UNLAWFUL ENTRY</td>\n",
       "      <td>APARTMENT</td>\n",
       "      <td>False</td>\n",
       "      <td>...</td>\n",
       "      <td>47.0</td>\n",
       "      <td>5.0</td>\n",
       "      <td>05</td>\n",
       "      <td>1162518.0</td>\n",
       "      <td>1925906.0</td>\n",
       "      <td>2023</td>\n",
       "      <td>11/18/2023 03:39:49 PM</td>\n",
       "      <td>41.952345</td>\n",
       "      <td>-87.677975</td>\n",
       "      <td>(41.952345086, -87.677975059)</td>\n",
       "    </tr>\n",
       "    <tr>\n",
       "      <th>3</th>\n",
       "      <td>3</td>\n",
       "      <td>13274752</td>\n",
       "      <td>JG501049</td>\n",
       "      <td>11/12/2023 07:59:00 AM</td>\n",
       "      <td>086XX S COTTAGE GROVE AVE</td>\n",
       "      <td>0454</td>\n",
       "      <td>BATTERY</td>\n",
       "      <td>AGGRAVATED P.O. - HANDS, FISTS, FEET, NO / MIN...</td>\n",
       "      <td>SMALL RETAIL STORE</td>\n",
       "      <td>True</td>\n",
       "      <td>...</td>\n",
       "      <td>6.0</td>\n",
       "      <td>44.0</td>\n",
       "      <td>08B</td>\n",
       "      <td>1183071.0</td>\n",
       "      <td>1847869.0</td>\n",
       "      <td>2023</td>\n",
       "      <td>12/09/2023 03:41:24 PM</td>\n",
       "      <td>41.737751</td>\n",
       "      <td>-87.604856</td>\n",
       "      <td>(41.737750767, -87.604855911)</td>\n",
       "    </tr>\n",
       "    <tr>\n",
       "      <th>4</th>\n",
       "      <td>4</td>\n",
       "      <td>13203321</td>\n",
       "      <td>JG415333</td>\n",
       "      <td>09/06/2023 05:00:00 PM</td>\n",
       "      <td>002XX N Wells st</td>\n",
       "      <td>1320</td>\n",
       "      <td>CRIMINAL DAMAGE</td>\n",
       "      <td>TO VEHICLE</td>\n",
       "      <td>PARKING LOT / GARAGE (NON RESIDENTIAL)</td>\n",
       "      <td>False</td>\n",
       "      <td>...</td>\n",
       "      <td>42.0</td>\n",
       "      <td>32.0</td>\n",
       "      <td>14</td>\n",
       "      <td>1174694.0</td>\n",
       "      <td>1901831.0</td>\n",
       "      <td>2023</td>\n",
       "      <td>11/04/2023 03:40:18 PM</td>\n",
       "      <td>41.886018</td>\n",
       "      <td>-87.633938</td>\n",
       "      <td>(41.886018055, -87.633937881)</td>\n",
       "    </tr>\n",
       "  </tbody>\n",
       "</table>\n",
       "<p>5 rows × 23 columns</p>\n",
       "</div>"
      ],
      "text/plain": [
       "   Unnamed: 0        ID Case Number                    Date  \\\n",
       "0           0     25953    JE240540  05/24/2021 03:06:00 PM   \n",
       "1           1     26038    JE279849  06/26/2021 09:24:00 AM   \n",
       "2           2  13279676    JG507211  11/09/2023 07:30:00 AM   \n",
       "3           3  13274752    JG501049  11/12/2023 07:59:00 AM   \n",
       "4           4  13203321    JG415333  09/06/2023 05:00:00 PM   \n",
       "\n",
       "                       Block  IUCR     Primary Type  \\\n",
       "0        020XX N LARAMIE AVE  0110         HOMICIDE   \n",
       "1      062XX N MC CORMICK RD  0110         HOMICIDE   \n",
       "2           019XX W BYRON ST  0620         BURGLARY   \n",
       "3  086XX S COTTAGE GROVE AVE  0454          BATTERY   \n",
       "4           002XX N Wells st  1320  CRIMINAL DAMAGE   \n",
       "\n",
       "                                         Description  \\\n",
       "0                                FIRST DEGREE MURDER   \n",
       "1                                FIRST DEGREE MURDER   \n",
       "2                                     UNLAWFUL ENTRY   \n",
       "3  AGGRAVATED P.O. - HANDS, FISTS, FEET, NO / MIN...   \n",
       "4                                         TO VEHICLE   \n",
       "\n",
       "                     Location Description  Arrest  ...  Ward  Community Area  \\\n",
       "0                                  STREET    True  ...  36.0            19.0   \n",
       "1                             PARKING LOT    True  ...  50.0            13.0   \n",
       "2                               APARTMENT   False  ...  47.0             5.0   \n",
       "3                      SMALL RETAIL STORE    True  ...   6.0            44.0   \n",
       "4  PARKING LOT / GARAGE (NON RESIDENTIAL)   False  ...  42.0            32.0   \n",
       "\n",
       "   FBI Code  X Coordinate  Y Coordinate  Year              Updated On  \\\n",
       "0       01A     1141387.0     1913179.0  2021  11/18/2023 03:39:49 PM   \n",
       "1       01A     1152781.0     1941458.0  2021  11/18/2023 03:39:49 PM   \n",
       "2        05     1162518.0     1925906.0  2023  11/18/2023 03:39:49 PM   \n",
       "3       08B     1183071.0     1847869.0  2023  12/09/2023 03:41:24 PM   \n",
       "4        14     1174694.0     1901831.0  2023  11/04/2023 03:40:18 PM   \n",
       "\n",
       "    Latitude  Longitude                       Location  \n",
       "0  41.917838 -87.755969  (41.917838056, -87.755968972)  \n",
       "1  41.995219 -87.713355  (41.995219444, -87.713354912)  \n",
       "2  41.952345 -87.677975  (41.952345086, -87.677975059)  \n",
       "3  41.737751 -87.604856  (41.737750767, -87.604855911)  \n",
       "4  41.886018 -87.633938  (41.886018055, -87.633937881)  \n",
       "\n",
       "[5 rows x 23 columns]"
      ]
     },
     "execution_count": 3,
     "metadata": {},
     "output_type": "execute_result"
    }
   ],
   "source": [
    "df.head()"
   ]
  },
  {
   "cell_type": "code",
   "execution_count": 4,
   "id": "fb3caf6d-3438-444c-9678-cc04337fd3c7",
   "metadata": {},
   "outputs": [
    {
     "name": "stdout",
     "output_type": "stream",
     "text": [
      "<class 'pandas.core.frame.DataFrame'>\n",
      "RangeIndex: 2171288 entries, 0 to 2171287\n",
      "Data columns (total 23 columns):\n",
      " #   Column                Dtype  \n",
      "---  ------                -----  \n",
      " 0   Unnamed: 0            int64  \n",
      " 1   ID                    int64  \n",
      " 2   Case Number           object \n",
      " 3   Date                  object \n",
      " 4   Block                 object \n",
      " 5   IUCR                  object \n",
      " 6   Primary Type          object \n",
      " 7   Description           object \n",
      " 8   Location Description  object \n",
      " 9   Arrest                bool   \n",
      " 10  Domestic              bool   \n",
      " 11  Beat                  int64  \n",
      " 12  District              float64\n",
      " 13  Ward                  float64\n",
      " 14  Community Area        float64\n",
      " 15  FBI Code              object \n",
      " 16  X Coordinate          float64\n",
      " 17  Y Coordinate          float64\n",
      " 18  Year                  int64  \n",
      " 19  Updated On            object \n",
      " 20  Latitude              float64\n",
      " 21  Longitude             float64\n",
      " 22  Location              object \n",
      "dtypes: bool(2), float64(7), int64(4), object(10)\n",
      "memory usage: 352.0+ MB\n"
     ]
    }
   ],
   "source": [
    "df.info()"
   ]
  },
  {
   "cell_type": "code",
   "execution_count": 5,
   "id": "7a34f869-3f15-46d3-ba2e-6b0a87418a9a",
   "metadata": {},
   "outputs": [],
   "source": [
    "df['Date'] = pd.to_datetime(df['Date'], format='%m/%d/%Y %I:%M:%S %p')"
   ]
  },
  {
   "cell_type": "code",
   "execution_count": 6,
   "id": "b6d2aeff-4770-419e-aaf4-c09d828b3d99",
   "metadata": {},
   "outputs": [
    {
     "name": "stdout",
     "output_type": "stream",
     "text": [
      "<class 'pandas.core.frame.DataFrame'>\n",
      "RangeIndex: 2171288 entries, 0 to 2171287\n",
      "Data columns (total 24 columns):\n",
      " #   Column                Dtype         \n",
      "---  ------                -----         \n",
      " 0   Unnamed: 0            int64         \n",
      " 1   ID                    int64         \n",
      " 2   Case Number           object        \n",
      " 3   Date                  datetime64[ns]\n",
      " 4   Block                 object        \n",
      " 5   IUCR                  object        \n",
      " 6   Primary Type          object        \n",
      " 7   Description           object        \n",
      " 8   Location Description  object        \n",
      " 9   Arrest                bool          \n",
      " 10  Domestic              bool          \n",
      " 11  Beat                  int64         \n",
      " 12  District              float64       \n",
      " 13  Ward                  float64       \n",
      " 14  Community Area        float64       \n",
      " 15  FBI Code              object        \n",
      " 16  X Coordinate          float64       \n",
      " 17  Y Coordinate          float64       \n",
      " 18  Year                  int64         \n",
      " 19  Updated On            object        \n",
      " 20  Latitude              float64       \n",
      " 21  Longitude             float64       \n",
      " 22  Location              object        \n",
      " 23  Pandemic Period       category      \n",
      "dtypes: bool(2), category(1), datetime64[ns](1), float64(7), int64(4), object(9)\n",
      "memory usage: 354.1+ MB\n",
      "None\n",
      "Pandemic Period\n",
      "Before Pandemic    806624\n",
      "During Pandemic    714420\n",
      "After Pandemic     382974\n",
      "dtype: int64\n"
     ]
    },
    {
     "name": "stderr",
     "output_type": "stream",
     "text": [
      "C:\\Users\\mwill\\AppData\\Local\\Temp\\ipykernel_46816\\523175352.py:15: FutureWarning: The default of observed=False is deprecated and will be changed to True in a future version of pandas. Pass observed=False to retain current behavior or observed=True to adopt the future default and silence this warning.\n",
      "  print(df.groupby('Pandemic Period').size())\n"
     ]
    }
   ],
   "source": [
    "# Next, define pandemic periods\n",
    "df['Pandemic Period'] = pd.cut(\n",
    "    df['Date'],\n",
    "    bins=[\n",
    "        pd.Timestamp('2017-01-01'),\n",
    "        pd.Timestamp('2020-01-31'),\n",
    "        pd.Timestamp('2023-05-11'),\n",
    "        pd.Timestamp('2024-10-25'),\n",
    "    ],\n",
    "    labels=['Before Pandemic', 'During Pandemic', 'After Pandemic'],\n",
    "    right = False # This makes the right edge of each bin exclusive \n",
    ")\n",
    "# Basic stats and summary by period\n",
    "print(df.info())\n",
    "print(df.groupby('Pandemic Period').size())\n",
    "\n",
    "# Filter data for relevant columns\n",
    "crime_location_data = df[['Date', 'Primary Type', 'Block', 'Latitude', 'Longitude', 'Pandemic Period']].dropna()\n",
    "\n",
    "crime_location_data = crime_location_data[\n",
    "    (crime_location_data['Latitude'] != 0.0) & # Removes any undifined/missing latitude values\n",
    "    (crime_location_data['Longitude'] != 0.0) & # Removes any undifined/missing longitude values\n",
    "    (crime_location_data['Latitude'] > 37.0) # Removes unfortunate outlier\n",
    "]"
   ]
  },
  {
   "cell_type": "code",
   "execution_count": 7,
   "id": "c9af94d4-326f-4646-9791-dcc3965c3bcf",
   "metadata": {},
   "outputs": [],
   "source": [
    "# Create column for season\n",
    "df['Season'] = np.where(df['Date'].dt.month == 1, 'Winter',\n",
    "                      np.where(df['Date'].dt.month == 2, 'Winter',\n",
    "                      np.where(df['Date'].dt.month == 3, 'Spring',\n",
    "                      np.where(df['Date'].dt.month == 4, 'Spring',\n",
    "                      np.where(df['Date'].dt.month == 5, 'Spring',\n",
    "                      np.where(df['Date'].dt.month == 6, 'Summer',\n",
    "                      np.where(df['Date'].dt.month == 7, 'Summer',\n",
    "                      np.where(df['Date'].dt.month == 8, 'Summer',\n",
    "                      np.where(df['Date'].dt.month == 9, 'Fall',\n",
    "                      np.where(df['Date'].dt.month == 10, 'Fall',\n",
    "                      np.where(df['Date'].dt.month == 11, 'Fall',\n",
    "                      np.where(df['Date'].dt.month == 12, 'Winter', 'Unknown'))))))))))))"
   ]
  },
  {
   "cell_type": "code",
   "execution_count": 8,
   "id": "cac18996-6d63-4714-8bbd-b357ba80da5b",
   "metadata": {},
   "outputs": [
    {
     "data": {
      "text/plain": [
       "<Axes: xlabel='Season'>"
      ]
     },
     "execution_count": 8,
     "metadata": {},
     "output_type": "execute_result"
    },
    {
     "data": {
      "image/png": "[encoded data removed]",
      "text/plain": [
       "<Figure size 1000x600 with 1 Axes>"
      ]
     },
     "metadata": {},
     "output_type": "display_data"
    }
   ],
   "source": [
    "# Bar chart for crime incidents by season\n",
    "season_count = df.groupby( 'Season').size()\n",
    "season_count.plot(kind='bar', figsize=(10,6), color='blue')"
   ]
  },
  {
   "cell_type": "code",
   "execution_count": 9,
   "id": "66ef19b5-1297-4a05-b698-ce413ed69f61",
   "metadata": {},
   "outputs": [
    {
     "data": {
      "text/plain": [
       "<Axes: xlabel='Year'>"
      ]
     },
     "execution_count": 9,
     "metadata": {},
     "output_type": "execute_result"
    },
    {
     "data": {
      "image/png": "[encoded data removed]",
      "text/plain": [
       "<Figure size 1000x600 with 1 Axes>"
      ]
     },
     "metadata": {},
     "output_type": "display_data"
    }
   ],
   "source": [
    "# Bar chart for crime incidents by year\n",
    "total_count = df.groupby('Year').size()\n",
    "total_count.plot(kind='bar', figsize=(10,6), color='blue')"
   ]
  },
  {
   "cell_type": "code",
   "execution_count": 10,
   "id": "93114c6e-8415-44a8-a86b-090efaf616bf",
   "metadata": {},
   "outputs": [
    {
     "data": {
      "text/plain": [
       "Text(0, 0.5, 'Arrests')"
      ]
     },
     "execution_count": 10,
     "metadata": {},
     "output_type": "execute_result"
    },
    {
     "data": {
      "image/png": "[encoded data removed]",
      "text/plain": [
       "<Figure size 1000x600 with 1 Axes>"
      ]
     },
     "metadata": {},
     "output_type": "display_data"
    }
   ],
   "source": [
    "# Dataframe for incidents leading to arrests and bar chart for arrests per year\n",
    "all_arrests = df[df['Arrest'] == 1]\n",
    "all_arrests.head()\n",
    "all_arrests.set_index('Date', inplace=True)\n",
    "arrests = all_arrests.resample('YE').size()\n",
    "arrests.plot(kind='bar', figsize=(10,6), color='blue')\n",
    "plt.ylabel('Arrests')"
   ]
  },
  {
   "cell_type": "code",
   "execution_count": 11,
   "id": "78016d02-b917-4d03-ad52-a9fba5475a4f",
   "metadata": {},
   "outputs": [
    {
     "data": {
      "text/html": [
       "<div>\n",
       "<style scoped>\n",
       "    .dataframe tbody tr th:only-of-type {\n",
       "        vertical-align: middle;\n",
       "    }\n",
       "\n",
       "    .dataframe tbody tr th {\n",
       "        vertical-align: top;\n",
       "    }\n",
       "\n",
       "    .dataframe thead th {\n",
       "        text-align: right;\n",
       "    }\n",
       "</style>\n",
       "<table border=\"1\" class=\"dataframe\">\n",
       "  <thead>\n",
       "    <tr style=\"text-align: right;\">\n",
       "      <th></th>\n",
       "      <th>Year</th>\n",
       "      <th>total_count</th>\n",
       "      <th>true_count</th>\n",
       "      <th>percentage_true</th>\n",
       "    </tr>\n",
       "  </thead>\n",
       "  <tbody>\n",
       "    <tr>\n",
       "      <th>0</th>\n",
       "      <td>2016</td>\n",
       "      <td>267270</td>\n",
       "      <td>52857</td>\n",
       "      <td>19.776630</td>\n",
       "    </tr>\n",
       "    <tr>\n",
       "      <th>1</th>\n",
       "      <td>2017</td>\n",
       "      <td>264964</td>\n",
       "      <td>52280</td>\n",
       "      <td>19.730982</td>\n",
       "    </tr>\n",
       "    <tr>\n",
       "      <th>2</th>\n",
       "      <td>2018</td>\n",
       "      <td>263552</td>\n",
       "      <td>52943</td>\n",
       "      <td>20.088256</td>\n",
       "    </tr>\n",
       "    <tr>\n",
       "      <th>3</th>\n",
       "      <td>2019</td>\n",
       "      <td>259158</td>\n",
       "      <td>56105</td>\n",
       "      <td>21.648955</td>\n",
       "    </tr>\n",
       "    <tr>\n",
       "      <th>4</th>\n",
       "      <td>2020</td>\n",
       "      <td>207947</td>\n",
       "      <td>33805</td>\n",
       "      <td>16.256546</td>\n",
       "    </tr>\n",
       "    <tr>\n",
       "      <th>5</th>\n",
       "      <td>2021</td>\n",
       "      <td>202857</td>\n",
       "      <td>25084</td>\n",
       "      <td>12.365361</td>\n",
       "    </tr>\n",
       "    <tr>\n",
       "      <th>6</th>\n",
       "      <td>2022</td>\n",
       "      <td>234879</td>\n",
       "      <td>27239</td>\n",
       "      <td>11.597035</td>\n",
       "    </tr>\n",
       "    <tr>\n",
       "      <th>7</th>\n",
       "      <td>2023</td>\n",
       "      <td>261932</td>\n",
       "      <td>31537</td>\n",
       "      <td>12.040148</td>\n",
       "    </tr>\n",
       "    <tr>\n",
       "      <th>8</th>\n",
       "      <td>2024</td>\n",
       "      <td>208729</td>\n",
       "      <td>27567</td>\n",
       "      <td>13.207077</td>\n",
       "    </tr>\n",
       "  </tbody>\n",
       "</table>\n",
       "</div>"
      ],
      "text/plain": [
       "   Year  total_count  true_count  percentage_true\n",
       "0  2016       267270       52857        19.776630\n",
       "1  2017       264964       52280        19.730982\n",
       "2  2018       263552       52943        20.088256\n",
       "3  2019       259158       56105        21.648955\n",
       "4  2020       207947       33805        16.256546\n",
       "5  2021       202857       25084        12.365361\n",
       "6  2022       234879       27239        11.597035\n",
       "7  2023       261932       31537        12.040148\n",
       "8  2024       208729       27567        13.207077"
      ]
     },
     "execution_count": 11,
     "metadata": {},
     "output_type": "execute_result"
    }
   ],
   "source": [
    "# Create a new dataframe and a column for a percentage of incidents leading to arrest per year\n",
    "percentage_true = df.groupby('Year')['Arrest'].agg(\n",
    "    total_count='count',\n",
    "    true_count='sum'\n",
    ").reset_index()\n",
    "percentage_true['percentage_true'] = (percentage_true['true_count'] / percentage_true['total_count']) * 100\n",
    "percentage_true"
   ]
  },
  {
   "cell_type": "code",
   "execution_count": 12,
   "id": "f34dc342-fb41-4e5b-a518-02cfcd09efb9",
   "metadata": {},
   "outputs": [
    {
     "name": "stderr",
     "output_type": "stream",
     "text": [
      "C:\\Users\\mwill\\AppData\\Local\\Temp\\ipykernel_46816\\956274627.py:2: FutureWarning: The default of observed=False is deprecated and will be changed to True in a future version of pandas. Pass observed=False to retain current behavior or observed=True to adopt the future default and silence this warning.\n",
      "  period_percentage_true = df.groupby('Pandemic Period')['Arrest'].agg(\n"
     ]
    },
    {
     "data": {
      "text/html": [
       "<div>\n",
       "<style scoped>\n",
       "    .dataframe tbody tr th:only-of-type {\n",
       "        vertical-align: middle;\n",
       "    }\n",
       "\n",
       "    .dataframe tbody tr th {\n",
       "        vertical-align: top;\n",
       "    }\n",
       "\n",
       "    .dataframe thead th {\n",
       "        text-align: right;\n",
       "    }\n",
       "</style>\n",
       "<table border=\"1\" class=\"dataframe\">\n",
       "  <thead>\n",
       "    <tr style=\"text-align: right;\">\n",
       "      <th></th>\n",
       "      <th>Pandemic Period</th>\n",
       "      <th>total_count</th>\n",
       "      <th>true_count</th>\n",
       "      <th>percentage_true</th>\n",
       "    </tr>\n",
       "  </thead>\n",
       "  <tbody>\n",
       "    <tr>\n",
       "      <th>0</th>\n",
       "      <td>Before Pandemic</td>\n",
       "      <td>806624</td>\n",
       "      <td>165693</td>\n",
       "      <td>20.541541</td>\n",
       "    </tr>\n",
       "    <tr>\n",
       "      <th>1</th>\n",
       "      <td>During Pandemic</td>\n",
       "      <td>714420</td>\n",
       "      <td>92672</td>\n",
       "      <td>12.971641</td>\n",
       "    </tr>\n",
       "    <tr>\n",
       "      <th>2</th>\n",
       "      <td>After Pandemic</td>\n",
       "      <td>382974</td>\n",
       "      <td>48195</td>\n",
       "      <td>12.584405</td>\n",
       "    </tr>\n",
       "  </tbody>\n",
       "</table>\n",
       "</div>"
      ],
      "text/plain": [
       "   Pandemic Period  total_count  true_count  percentage_true\n",
       "0  Before Pandemic       806624      165693        20.541541\n",
       "1  During Pandemic       714420       92672        12.971641\n",
       "2   After Pandemic       382974       48195        12.584405"
      ]
     },
     "execution_count": 12,
     "metadata": {},
     "output_type": "execute_result"
    }
   ],
   "source": [
    "# Create a new dataframe and a column for a percentage of incidents leading to arrest per pandemic period\n",
    "period_percentage_true = df.groupby('Pandemic Period')['Arrest'].agg(\n",
    "    total_count='count',\n",
    "    true_count='sum'\n",
    ").reset_index()\n",
    "period_percentage_true['percentage_true'] = (period_percentage_true['true_count'] / period_percentage_true['total_count']) * 100\n",
    "period_percentage_true"
   ]
  },
  {
   "cell_type": "code",
   "execution_count": 13,
   "id": "bc0e8452-eaee-461a-8098-3aa401986817",
   "metadata": {},
   "outputs": [
    {
     "data": {
      "text/plain": [
       "Text(0, 0.5, 'Percentage of Incidents Leading to Arrest')"
      ]
     },
     "execution_count": 13,
     "metadata": {},
     "output_type": "execute_result"
    },
    {
     "data": {
      "image/png": "[encoded data removed]",
      "text/plain": [
       "<Figure size 640x480 with 1 Axes>"
      ]
     },
     "metadata": {},
     "output_type": "display_data"
    }
   ],
   "source": [
    "# Bar chart for percentage of incidents leading to arrest per pandemic period\n",
    "plt.bar(period_percentage_true['Pandemic Period'], period_percentage_true['percentage_true'], label='Total')\n",
    "plt.xlabel('Pandemic Period')\n",
    "plt.ylabel('Percentage of Incidents Leading to Arrest')"
   ]
  },
  {
   "cell_type": "code",
   "execution_count": 14,
   "id": "3c412dcf-bdc2-411e-8f41-7e7fa6a1530a",
   "metadata": {},
   "outputs": [
    {
     "data": {
      "text/plain": [
       "Text(0, 0.5, 'Percentage of Incidents Leading to Arrest')"
      ]
     },
     "execution_count": 14,
     "metadata": {},
     "output_type": "execute_result"
    },
    {
     "data": {
      "image/png": "[encoded data removed]",
      "text/plain": [
       "<Figure size 640x480 with 1 Axes>"
      ]
     },
     "metadata": {},
     "output_type": "display_data"
    }
   ],
   "source": [
    "# Bar chart for percentage of incidents leading to arrest per year\n",
    "plt.bar(percentage_true['Year'], percentage_true['percentage_true'], label='Total')\n",
    "plt.xlabel('Year')\n",
    "plt.ylabel('Percentage of Incidents Leading to Arrest')"
   ]
  },
  {
   "cell_type": "code",
   "execution_count": 15,
   "id": "1b798f15-0d39-4a36-8d08-e7b226d6fd7d",
   "metadata": {},
   "outputs": [
    {
     "data": {
      "text/plain": [
       "Text(0, 0.5, 'Percentage of Incidents Leading to Arrest')"
      ]
     },
     "execution_count": 15,
     "metadata": {},
     "output_type": "execute_result"
    },
    {
     "data": {
      "image/png": "[encoded data removed]",
      "text/plain": [
       "<Figure size 640x480 with 1 Axes>"
      ]
     },
     "metadata": {},
     "output_type": "display_data"
    }
   ],
   "source": [
    "# Dataframe for arrests per season and bar chart for percentage of incidents leading to arrest per season\n",
    "season_percentage_true = df.groupby('Season')['Arrest'].agg(\n",
    "    total_count='count',\n",
    "    true_count='sum'\n",
    ").reset_index()\n",
    "season_percentage_true['percentage_true'] = (season_percentage_true['true_count'] / season_percentage_true['total_count']) * 100\n",
    "plt.bar(season_percentage_true['Season'], season_percentage_true['percentage_true'], label='Total')\n",
    "plt.xlabel('Season')\n",
    "plt.ylabel('Percentage of Incidents Leading to Arrest')"
   ]
  }
 ],
 "metadata": {
  "kernelspec": {
   "display_name": "Python 3 (ipykernel)",
   "language": "python",
   "name": "python3"
  },
  "language_info": {
   "codemirror_mode": {
    "name": "ipython",
    "version": 3
   },
   "file_extension": ".py",
   "mimetype": "text/x-python",
   "name": "python",
   "nbconvert_exporter": "python",
   "pygments_lexer": "ipython3",
   "version": "3.10.15"
  }
 },
 "nbformat": 4,
 "nbformat_minor": 5
}
